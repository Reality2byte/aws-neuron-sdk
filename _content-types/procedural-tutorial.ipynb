{
 "cells": [
  {
   "cell_type": "raw",
   "metadata": {
    "raw_mimetype": "text/restructuredtext",
    "vscode": {
     "languageId": "raw"
    }
   },
   "source": [
    ".. meta::\n",
    "    :description: {SEO-friendly short description of the tutorial. Include 'Neuron' and any keywords such as the language mode and framework.}\n"
   ]
  },
  {
   "cell_type": "markdown",
   "metadata": {},
   "source": [
    "# Tutorial: {title starting with verb}\n",
    "\n",
    "This tutorial guides you through using the AWS Neuron SDK to {description of what the reader will accomplish in this tutorial, using a specific component or framework}.\n",
    "\n"
   ]
  },
  {
   "cell_type": "markdown",
   "metadata": {},
   "source": [
    "## Overview\n",
    "\n",
    "{Briefly summarize the purpose and outcome of this end-to-end tutorial}.\n",
    "{State what users will learn or achieve by completing the tutorial}."
   ]
  },
  {
   "cell_type": "raw",
   "metadata": {
    "raw_mimetype": "text/restructuredtext",
    "vscode": {
     "languageId": "raw"
    }
   },
   "source": [
    ".. contents:: Table of contents\n",
    "    :local:\n",
    "    :depth: 2"
   ]
  },
  {
   "cell_type": "markdown",
   "metadata": {},
   "source": [
    "## Before you start\n",
    "\n",
    "To successfully complete this tutorial, you must have completed the following steps in advance:\n\n",
    "- Downloaded and installed the [AWS Neuron SDK](https://awsdocs-neuron.readthedocs-hosted.com/en/latest/setup/index.html) for {component}.\n",
    "- {prerequisite 2 description here. If the user must read a topic in advance or perform any complex preparations, provide a link to a topic or download}\n",
    "- {prerequisite 3 description here}\n"
   ]
  },
  {
   "cell_type": "markdown",
   "metadata": {},
   "source": [
    "## Setup\n",
    "\n",
    "{Describe any initial local setup required before starting the tutorial.}\n",
    "{Include any code-specific installation, configuration, or environment setup steps.}"
   ]
  },
  {
   "cell_type": "code",
   "execution_count": null,
   "metadata": {},
   "outputs": [],
   "source": [
    "# Example setup command (Remove these comments and add the CLI commands, env variable declarations, or other operations for the user to prepare their environment.)\n",
    "# pip install package_name"
   ]
  },
  {
   "cell_type": "markdown",
   "metadata": {},
   "source": [
    "## Tutorial steps"
   ]
  },
  {
   "cell_type": "markdown",
   "metadata": {},
   "source": [
    "### Step 1: {Title, starting with an infinitive verb like 'Load...', 'Create...', etc.}\n",
    "\n",
    "{Describe the first main step. Provide code, commands, or configuration as needed.}\n",
    "\n",
    "{Optional} {Add any important notes, caveats, or warnings for this step.}"
   ]
  },
  {
   "cell_type": "code",
   "execution_count": null,
   "metadata": {},
   "outputs": [],
   "source": [
    "print(\"Code goes here!\")"
   ]
  },
  {
   "cell_type": "markdown",
   "metadata": {},
   "source": [
    "### Step 2: {Title, starting with an infinitive verb like 'Load...', 'Create...', etc.}\n",
    "\n",
    "{Describe the second main step.}"
   ]
  },
  {
   "cell_type": "code",
   "execution_count": null,
   "metadata": {},
   "outputs": [],
   "source": [
    "print(\"Code goes here!\")"
   ]
  },
  {
   "cell_type": "markdown",
   "metadata": {},
   "source": [
    "### Step 3: {Title, starting with an infinitive verb like 'Load...', 'Create...', etc.}\n",
    "\n",
    "Describe the third main step."
   ]
  },
  {
   "cell_type": "code",
   "execution_count": null,
   "metadata": {},
   "outputs": [],
   "source": [
    "print(\"Code goes here!\")"
   ]
  },
  {
   "cell_type": "markdown",
   "metadata": {},
   "source": [
    "### Step N: {Title, starting with an infinitive verb like 'Load...', 'Create...', etc.}\n",
    "\n",
    "Describe the last main step."
   ]
  },
  {
   "cell_type": "code",
   "execution_count": null,
   "metadata": {},
   "outputs": [],
   "source": [
    "print(\"Code goes here!\")"
   ]
  },
  {
   "cell_type": "markdown",
   "metadata": {},
   "source": [
    "\nCode completed. Now, let's run it..."
   ]
  },
  {
   "cell_type": "markdown",
   "metadata": {},
   "source": [
    "## Run the code\n",
    "\n",
    "To run this code, {action to take to run the code}:\n",
    "Include commands, expected outputs, or checks to perform."
   ]
  },
  {
   "cell_type": "code",
   "execution_count": null,
   "metadata": {},
   "outputs": [],
   "source": [
    "# Example verification command\n",
    "# python foo.py\n"
   ]
  },
  {
   "cell_type": "markdown",
   "metadata": {},
   "source": [
    "\n",
    "If your code works, you will see output like this:\n\n",
    "```\n",
    "Loading glorp inhume logic...Done!\n",
    "Configuring extubation channel instances...Done!\n\n",
    "1111 | 2222 | 3333\n",
    "4444 | 5555 | 6666\n\n",
    "Average glorps inhumed and extubated: 420\n",
    "Time to max glorp: 8 seconds\n",
    "```\n\n"
   ]
  },
  {
   "cell_type": "markdown",
   "metadata": {},
   "source": [
    "\nCongratulations! You now know how to {goal of tutorial}. If your code did not run or did not produce similar results, see the [Common issues](#Common issues) section below."
   ]
  },
  {
   "cell_type": "markdown",
   "metadata": {},
   "source": [
    "## Common issues\n",
    "\n",
    "Here are some common errors and mistakes you can make when developing code using the approach in this tutorial, and how you may be able to address them:\n\n",
    "- {describe error, symptoms, and possible solution}\n",
    "- {describe error, symptoms, and possible solution}"
   ]
  },

  {
   "cell_type": "markdown",
   "metadata": {},
   "source": [
    "## (Optional) Next steps\n",
    "\n",
    "{Suggest what users might want to do next after completing the tutorial.\n",
    "Link to related topics or advanced guides.}"
   ]
  },
  {
   "cell_type": "markdown",
   "metadata": {},
   "source": [
    "## Related topics\n",
    "\n",
    "- [Related topic 1](link_here)\n",
    "- [Related topic 2](link_here)"
   ]
  }
 ],
 "metadata": {
  "kernelspec": {
   "display_name": "Python 3",
   "language": "python",
   "name": "python3"
  },
  "language_info": {
   "codemirror_mode": {
    "name": "ipython",
    "version": 3
   },
   "file_extension": ".py",
   "mimetype": "text/x-python",
   "name": "python",
   "nbconvert_exporter": "python",
   "pygments_lexer": "ipython3",
   "version": "3.8.5"
  }
 },
 "nbformat": 4,
 "nbformat_minor": 4
}
